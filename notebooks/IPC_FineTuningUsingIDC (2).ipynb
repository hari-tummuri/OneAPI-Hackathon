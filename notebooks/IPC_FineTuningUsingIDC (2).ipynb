{
 "cells": [
  {
   "cell_type": "code",
   "execution_count": null,
   "metadata": {},
   "outputs": [],
   "source": [
    "# importing libraries"
   ]
  },
  {
   "cell_type": "code",
   "execution_count": null,
   "id": "73e4a60f-fbfc-40e6-af07-3eef6e0ec172",
   "metadata": {},
   "outputs": [],
   "source": [
    "import torch\n",
    "# import intel_extension_for_pytorch as ipex\n",
    "print(torch.backends.mkl.is_available())"
   ]
  },
  {
   "cell_type": "code",
   "execution_count": null,
   "id": "3a8ba182-b638-4554-9b24-6b7a0e423e7f",
   "metadata": {},
   "outputs": [],
   "source": [
    "from distributed import Client\n",
    "client = Client()"
   ]
  },
  {
   "cell_type": "code",
   "execution_count": null,
   "id": "2823cb75-0dfa-4b42-ae33-292af17e2c88",
   "metadata": {},
   "outputs": [],
   "source": [
    "import modin.pandas as pd"
   ]
  },
  {
   "cell_type": "code",
   "execution_count": null,
   "id": "38610962-f245-432a-8644-16b7fbe71dbc",
   "metadata": {},
   "outputs": [],
   "source": [
    "df = pd.read_excel(\"IPC_Dataset.xlsx\")"
   ]
  },
  {
   "cell_type": "code",
   "execution_count": null,
   "id": "46ffa574",
   "metadata": {},
   "outputs": [],
   "source": [
    "df.head()"
   ]
  },
  {
   "cell_type": "code",
   "execution_count": null,
   "id": "60c09be3",
   "metadata": {},
   "outputs": [],
   "source": [
    "df.info()"
   ]
  },
  {
   "cell_type": "code",
   "execution_count": null,
   "id": "7df56189",
   "metadata": {},
   "outputs": [],
   "source": [
    "df.dropna()"
   ]
  },
  {
   "cell_type": "code",
   "execution_count": null,
   "id": "602c0133",
   "metadata": {},
   "outputs": [],
   "source": [
    "df['text'].str.lower()"
   ]
  },
  {
   "cell_type": "code",
   "execution_count": null,
   "id": "6da8b5cc",
   "metadata": {},
   "outputs": [],
   "source": [
    "df['summary'].str.lower()"
   ]
  },
  {
   "cell_type": "code",
   "execution_count": null,
   "id": "6139b0e4-a982-4114-8184-ae1878563a35",
   "metadata": {},
   "outputs": [],
   "source": [
    "from datasets import load_dataset, Dataset"
   ]
  },
  {
   "cell_type": "code",
   "execution_count": null,
   "id": "53c5e167-ebfc-46d1-bdf2-223dd21c0f7c",
   "metadata": {},
   "outputs": [],
   "source": [
    "data_dict = df.to_dict('list')  # convert DataFrame to dictionary of lists\n",
    "dataset = Dataset.from_dict(data_dict)"
   ]
  },
  {
   "cell_type": "code",
   "execution_count": null,
   "metadata": {},
   "outputs": [],
   "source": [
    "# data processing"
   ]
  },
  {
   "cell_type": "code",
   "execution_count": null,
   "id": "8c670c16-9738-4434-8e13-023d5fbf04ae",
   "metadata": {},
   "outputs": [],
   "source": [
    "ds = dataset.train_test_split(test_size=0.01)"
   ]
  },
  {
   "cell_type": "code",
   "execution_count": null,
   "id": "ffa00726-80d0-469b-a352-a2b5922dc04c",
   "metadata": {},
   "outputs": [],
   "source": [
    "from transformers import AutoTokenizer\n",
    "\n",
    "checkpoint = \"google/flan-t5-large\"\n",
    "tokenizer = AutoTokenizer.from_pretrained(checkpoint)"
   ]
  },
  {
   "cell_type": "code",
   "execution_count": null,
   "id": "0271cffd-f088-43dd-9e91-4ef770cb0e8a",
   "metadata": {},
   "outputs": [],
   "source": [
    "def format_instruction(chapter: str, section: str):\n",
    "\treturn f\"\"\"### Instruction:\n",
    "What does {section.strip()}  about?\n",
    "\"\"\"\n"
   ]
  },
  {
   "cell_type": "code",
   "execution_count": null,
   "id": "6e2e4364-d0f1-4971-95c3-ac93efd5c8e9",
   "metadata": {},
   "outputs": [],
   "source": [
    "def generate_instruction_dataset(data_point):\n",
    "\n",
    "    return {\n",
    "        \"chapter\": data_point[\"Chapter\"],\n",
    "        \"Section\": data_point[\"Section\"],\n",
    "        # \"Title\": data_point[\"Title\"],\n",
    "        # \"Description\": data_point[\"Description\"],\n",
    "        \"text\": format_instruction(data_point[\"Chapter\"],data_point[\"Section\"])\n",
    "    }"
   ]
  },
  {
   "cell_type": "code",
   "execution_count": null,
   "id": "d6d897b1-a7bf-4fa8-a7a5-51d3be254803",
   "metadata": {},
   "outputs": [],
   "source": [
    "def process_dataset(data: Dataset):\n",
    "    return (\n",
    "        data.shuffle(seed=42)\n",
    "        .map(generate_instruction_dataset)\n",
    "    )"
   ]
  },
  {
   "cell_type": "code",
   "execution_count": null,
   "id": "d4ad9f65-db8b-4a35-9d83-3fdba5232da9",
   "metadata": {},
   "outputs": [],
   "source": [
    "ds[\"train\"] = process_dataset(ds[\"train\"])"
   ]
  },
  {
   "cell_type": "code",
   "execution_count": null,
   "id": "1daf4c3b-2fc1-4aa7-8915-3dee85b2f15e",
   "metadata": {},
   "outputs": [],
   "source": [
    "ds[\"train\"][\"text\"][0]"
   ]
  },
  {
   "cell_type": "code",
   "execution_count": null,
   "id": "9a005331-b8be-4bc6-b3b0-e3d72d953845",
   "metadata": {},
   "outputs": [],
   "source": [
    "def format_instruction1(title: str, Description : str):\n",
    "\treturn f\"\"\"\n",
    "# {title.strip()} which describes {Description.strip()}\n",
    "# \"\"\".strip()"
   ]
  },
  {
   "cell_type": "code",
   "execution_count": null,
   "id": "f41003eb-6c66-4df2-8348-9bcd5fc57590",
   "metadata": {},
   "outputs": [],
   "source": [
    "def generate_instruction_dataset1(data_point):\n",
    "\n",
    "    return {\n",
    "        \"chapter\": data_point[\"Chapter\"],\n",
    "        \"Section\": data_point[\"Section\"],\n",
    "        \"Title\": data_point[\"Title\"],\n",
    "        \"Description\": data_point[\"Description\"],\n",
    "        \"text\": format_instruction1(data_point[\"Title\"],data_point[\"Description\"])\n",
    "    }"
   ]
  },
  {
   "cell_type": "code",
   "execution_count": null,
   "id": "a5b3d210-2ae1-4ba9-bfec-738816acba00",
   "metadata": {},
   "outputs": [],
   "source": [
    "def process_dataset1(data: Dataset):\n",
    "    return (\n",
    "        data.shuffle(seed=42)\n",
    "        .map(generate_instruction_dataset1)\n",
    "    )"
   ]
  },
  {
   "cell_type": "code",
   "execution_count": null,
   "id": "70904e8e-7bdc-477b-adb9-896ecf7aa6e3",
   "metadata": {},
   "outputs": [],
   "source": [
    "ds[\"out\"] = process_dataset1(ds[\"train\"])"
   ]
  },
  {
   "cell_type": "code",
   "execution_count": null,
   "id": "0bdad5a3-82be-4c36-95fc-b696b01a964d",
   "metadata": {},
   "outputs": [],
   "source": [
    "ds[\"out\"][\"text\"][0]"
   ]
  },
  {
   "cell_type": "code",
   "execution_count": null,
   "id": "04f9c637-7484-49cb-a0ce-d9b11e840649",
   "metadata": {},
   "outputs": [],
   "source": [
    "ds[\"title\"] = ds[\"train\"][\"text\"]"
   ]
  },
  {
   "cell_type": "code",
   "execution_count": null,
   "id": "057a159e-b355-4141-ae64-482eb9bf40dc",
   "metadata": {},
   "outputs": [],
   "source": [
    "ds[\"res\"] = ds[\"out\"][\"text\"]"
   ]
  },
  {
   "cell_type": "code",
   "execution_count": null,
   "id": "3c94c6f5-7419-4fe2-b2b1-cc49ad8b50e4",
   "metadata": {},
   "outputs": [],
   "source": [
    "dfs= pd.DataFrame()"
   ]
  },
  {
   "cell_type": "code",
   "execution_count": null,
   "id": "e8f4e1fa-e08e-4519-9944-ea307cd341ea",
   "metadata": {},
   "outputs": [],
   "source": [
    "dfs[\"title\"] = ds[\"title\"] "
   ]
  },
  {
   "cell_type": "code",
   "execution_count": null,
   "id": "c4767b8b-e5f2-4ef6-bc74-9eb216c70deb",
   "metadata": {},
   "outputs": [],
   "source": [
    "dfs[\"response\"] = ds[\"res\"]"
   ]
  },
  {
   "cell_type": "code",
   "execution_count": null,
   "id": "cbd62325-a6ef-4add-ab44-8775e4d79bfe",
   "metadata": {},
   "outputs": [],
   "source": [
    "dfs[\"title\"][3]"
   ]
  },
  {
   "cell_type": "code",
   "execution_count": null,
   "id": "b5b12774-0146-41f2-ba3e-d74eeb97806f",
   "metadata": {},
   "outputs": [],
   "source": [
    "dfs[\"response\"][3]"
   ]
  },
  {
   "cell_type": "code",
   "execution_count": null,
   "id": "f8e19560-c09c-40d3-896c-e4acc75c3896",
   "metadata": {},
   "outputs": [],
   "source": [
    "fin = Dataset.from_pandas(dfs)"
   ]
  },
  {
   "cell_type": "code",
   "execution_count": null,
   "id": "39cfb4fd-69a8-4e8a-a1bb-c62bffd9eb67",
   "metadata": {},
   "outputs": [],
   "source": [
    "finalDs= fin.train_test_split(test_size=0.01)"
   ]
  },
  {
   "cell_type": "code",
   "execution_count": null,
   "id": "a9a316d4-0d1e-4585-855b-94c7de590eed",
   "metadata": {},
   "outputs": [],
   "source": [
    "\n",
    "def preprocess_function(examples):\n",
    "    inputs = [doc for doc in examples[\"title\"]]\n",
    "    model_inputs = tokenizer(inputs, max_length=1024, truncation=True)\n",
    "\n",
    "    labels = tokenizer(text_target=examples[\"response\"], max_length=500, truncation=True)\n",
    "\n",
    "    model_inputs[\"labels\"] = labels[\"input_ids\"]\n",
    "    return model_inputs"
   ]
  },
  {
   "cell_type": "code",
   "execution_count": null,
   "id": "c84f2496-c688-4741-a7eb-ee1be1d9928c",
   "metadata": {},
   "outputs": [],
   "source": [
    "tokenized_ds = finalDs.map(preprocess_function, batched=True)"
   ]
  },
  {
   "cell_type": "code",
   "execution_count": null,
   "id": "e2177f0e-f4ab-4ec2-b4b4-3663fff9289a",
   "metadata": {},
   "outputs": [],
   "source": [
    "from transformers import DataCollatorForSeq2Seq\n",
    "\n",
    "data_collator = DataCollatorForSeq2Seq(tokenizer=tokenizer, model=checkpoint)"
   ]
  },
  {
   "cell_type": "code",
   "execution_count": null,
   "id": "4673126c-89d2-456d-a2ed-07e9e3d0f0c0",
   "metadata": {},
   "outputs": [],
   "source": [
    "import evaluate\n",
    "\n",
    "rouge = evaluate.load(\"rouge\")"
   ]
  },
  {
   "cell_type": "code",
   "execution_count": null,
   "id": "906e1a7c-c44d-4f93-91a8-05d6877b0771",
   "metadata": {},
   "outputs": [],
   "source": [
    "import numpy as np\n",
    "\n",
    "\n",
    "def compute_metrics(eval_pred):\n",
    "    predictions, labels = eval_pred\n",
    "    decoded_preds = tokenizer.batch_decode(predictions, skip_special_tokens=True)\n",
    "    labels = np.where(labels != -100, labels, tokenizer.pad_token_id)\n",
    "    decoded_labels = tokenizer.batch_decode(labels, skip_special_tokens=True)\n",
    "\n",
    "    result = rouge.compute(predictions=decoded_preds, references=decoded_labels, use_stemmer=True)\n",
    "\n",
    "    prediction_lens = [np.count_nonzero(pred != tokenizer.pad_token_id) for pred in predictions]\n",
    "    result[\"gen_len\"] = np.mean(prediction_lens)\n",
    "\n",
    "    return {k: round(v, 4) for k, v in result.items()}"
   ]
  },
  {
   "cell_type": "code",
   "execution_count": null,
   "metadata": {},
   "outputs": [],
   "source": [
    "# finetuning LLM"
   ]
  },
  {
   "cell_type": "code",
   "execution_count": null,
   "id": "b82afd97-b05c-4ae8-b731-2a847d503bc5",
   "metadata": {},
   "outputs": [],
   "source": [
    "from transformers import AutoModelForSeq2SeqLM, Seq2SeqTrainingArguments, Seq2SeqTrainer\n",
    "\n",
    "model = AutoModelForSeq2SeqLM.from_pretrained(checkpoint)"
   ]
  },
  {
   "cell_type": "code",
   "execution_count": null,
   "id": "2ce5c181-a6ba-4229-9a81-48d5eb11e9c0",
   "metadata": {},
   "outputs": [],
   "source": [
    "training_args = Seq2SeqTrainingArguments(\n",
    "    output_dir=\"finalIPC\",\n",
    "    evaluation_strategy=\"epoch\",\n",
    "    learning_rate=1e-4,\n",
    "    per_device_train_batch_size=16,\n",
    "    per_device_eval_batch_size=16,\n",
    "    weight_decay=0.01,\n",
    "    save_total_limit=1,\n",
    "    num_train_epochs=5,\n",
    "    predict_with_generate=True,\n",
    "    push_to_hub=True\n",
    ")"
   ]
  },
  {
   "cell_type": "code",
   "execution_count": null,
   "id": "2d5e5b7b-0913-4614-b88c-f55da8d767c3",
   "metadata": {},
   "outputs": [],
   "source": [
    "trainer = Seq2SeqTrainer(\n",
    "    model=model,\n",
    "    args=training_args,\n",
    "    train_dataset=tokenized_ds[\"train\"],\n",
    "    eval_dataset=tokenized_ds[\"test\"],\n",
    "    tokenizer=tokenizer,\n",
    "    data_collator=data_collator,\n",
    "    compute_metrics=compute_metrics,\n",
    "    \n",
    ")"
   ]
  },
  {
   "cell_type": "code",
   "execution_count": null,
   "id": "22a6638c-8ad9-4ae2-9728-b3414acd090e",
   "metadata": {},
   "outputs": [],
   "source": [
    "trainer.train()"
   ]
  },
  {
   "cell_type": "code",
   "execution_count": null,
   "id": "1acafe9e-69b5-45dc-99b3-a1d32d6e3c0c",
   "metadata": {},
   "outputs": [],
   "source": []
  }
 ],
 "metadata": {
  "kernelspec": {
   "display_name": "Python 3",
   "language": "python",
   "name": "python3"
  },
  "language_info": {
   "codemirror_mode": {
    "name": "ipython",
    "version": 3
   },
   "file_extension": ".py",
   "mimetype": "text/x-python",
   "name": "python",
   "nbconvert_exporter": "python",
   "pygments_lexer": "ipython3",
   "version": "3.8.8"
  }
 },
 "nbformat": 4,
 "nbformat_minor": 5
}
